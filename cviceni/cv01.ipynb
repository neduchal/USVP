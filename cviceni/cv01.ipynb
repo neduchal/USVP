{
 "nbformat": 4,
 "nbformat_minor": 2,
 "metadata": {
  "language_info": {
   "name": "python",
   "codemirror_mode": {
    "name": "ipython",
    "version": 3
   },
   "version": "3.6.9-final"
  },
  "orig_nbformat": 2,
  "file_extension": ".py",
  "mimetype": "text/x-python",
  "name": "python",
  "npconvert_exporter": "python",
  "pygments_lexer": "ipython3",
  "version": 3,
  "kernelspec": {
   "name": "python36964bit9ff76aee852640b3ab8cca0f07d81fa3",
   "display_name": "Python 3.6.9 64-bit"
  }
 },
 "cells": [
  {
   "cell_type": "markdown",
   "metadata": {},
   "source": [
    "# USVP  1\n",
    "\n",
    "## Python 3.X instalation \n",
    "\n",
    "### Windows\n",
    "\n",
    "PythonXY https://code.google.com/p/pythonxy/\n",
    "\n",
    "WinPython http://winpython.github.io/\n",
    "\n",
    "Anaconda https://store.continuum.io/cshop/anaconda/\n",
    "\n",
    "### Linux\n",
    "\n",
    "Two versions of Python (2.7 and 3.6) are usually installed in the Linux distribution .\n",
    "\n",
    "## IDE\n",
    "\n",
    "PyCharm https://www.jetbrains.com/pycharm/\n",
    "\n",
    "Visual Studio Code https://code.visualstudio.com/\n",
    "\n",
    "případně další https://wiki.python.org/moin/IntegratedDevelopmentEnvironments"
   ]
  },
  {
   "cell_type": "code",
   "execution_count": 1,
   "metadata": {},
   "outputs": [
    {
     "name": "stdout",
     "output_type": "stream",
     "text": "Populating the interactive namespace from numpy and matplotlib\n"
    }
   ],
   "source": [
    "# priprava pro Jupyter notebook\n",
    "%pylab inline\n"
   ]
  },
  {
   "cell_type": "markdown",
   "metadata": {},
   "source": [
    "## Python basics"
   ]
  },
  {
   "cell_type": "code",
   "execution_count": null,
   "metadata": {},
   "outputs": [],
   "source": []
  },
  {
   "cell_type": "markdown",
   "metadata": {},
   "source": [
    "## Image Processing"
   ]
  },
  {
   "cell_type": "code",
   "execution_count": null,
   "metadata": {},
   "outputs": [],
   "source": [
    "import scipy\n",
    "import scipy.misc\n",
    "import skimage\n",
    "import skimage.data\n",
    "from skimage.io import imread"
   ]
  },
  {
   "cell_type": "code",
   "execution_count": null,
   "metadata": {},
   "outputs": [],
   "source": [
    "## Filtering"
   ]
  }
 ]
}